{
 "cells": [
  {
   "cell_type": "code",
   "execution_count": 1,
   "metadata": {},
   "outputs": [
    {
     "name": "stderr",
     "output_type": "stream",
     "text": [
      "/Users/apple/anaconda3/lib/python3.6/site-packages/h5py/__init__.py:36: FutureWarning: Conversion of the second argument of issubdtype from `float` to `np.floating` is deprecated. In future, it will be treated as `np.float64 == np.dtype(float).type`.\n",
      "  from ._conv import register_converters as _register_converters\n"
     ]
    }
   ],
   "source": [
    "import tensorflow as tf"
   ]
  },
  {
   "cell_type": "code",
   "execution_count": 2,
   "metadata": {},
   "outputs": [],
   "source": [
    "from tensorflow import keras\n",
    "\n",
    "# Helper libraries\n",
    "import numpy as np\n",
    "import matplotlib.pyplot as plt"
   ]
  },
  {
   "cell_type": "code",
   "execution_count": 3,
   "metadata": {},
   "outputs": [
    {
     "name": "stdout",
     "output_type": "stream",
     "text": [
      "1.11.0\n"
     ]
    }
   ],
   "source": [
    "print(tf.__version__)"
   ]
  },
  {
   "cell_type": "code",
   "execution_count": null,
   "metadata": {},
   "outputs": [],
   "source": []
  },
  {
   "cell_type": "code",
   "execution_count": null,
   "metadata": {},
   "outputs": [],
   "source": []
  },
  {
   "cell_type": "code",
   "execution_count": 2,
   "metadata": {},
   "outputs": [],
   "source": [
    "mnist = tf.keras.datasets.mnist"
   ]
  },
  {
   "cell_type": "code",
   "execution_count": 3,
   "metadata": {},
   "outputs": [
    {
     "name": "stdout",
     "output_type": "stream",
     "text": [
      "Downloading data from https://storage.googleapis.com/tensorflow/tf-keras-datasets/mnist.npz\n",
      "11493376/11490434 [==============================] - 1s 0us/step\n",
      "Epoch 1/5\n",
      "60000/60000 [==============================] - 12s 206us/step - loss: 0.2000 - acc: 0.9410\n",
      "Epoch 2/5\n",
      "60000/60000 [==============================] - 12s 200us/step - loss: 0.0797 - acc: 0.9753\n",
      "Epoch 3/5\n",
      "60000/60000 [==============================] - 12s 205us/step - loss: 0.0519 - acc: 0.9839\n",
      "Epoch 4/5\n",
      "60000/60000 [==============================] - 12s 203us/step - loss: 0.0369 - acc: 0.9882\n",
      "Epoch 5/5\n",
      "60000/60000 [==============================] - 14s 239us/step - loss: 0.0280 - acc: 0.9911\n",
      "10000/10000 [==============================] - 1s 65us/step\n"
     ]
    },
    {
     "data": {
      "text/plain": [
       "[0.06170713172260439, 0.9824]"
      ]
     },
     "execution_count": 3,
     "metadata": {},
     "output_type": "execute_result"
    }
   ],
   "source": [
    "(x_train, y_train),(x_test, y_test) = mnist.load_data()\n",
    "x_train, x_test = x_train / 255.0, x_test / 255.0\n",
    "\n",
    "model = tf.keras.models.Sequential([\n",
    "  tf.keras.layers.Flatten(),\n",
    "  tf.keras.layers.Dense(512, activation=tf.nn.relu),\n",
    "  tf.keras.layers.Dropout(0.2),\n",
    "  tf.keras.layers.Dense(10, activation=tf.nn.softmax)\n",
    "])\n",
    "model.compile(optimizer='adam',\n",
    "              loss='sparse_categorical_crossentropy',\n",
    "              metrics=['accuracy'])\n",
    "\n",
    "model.fit(x_train, y_train, epochs=5)\n",
    "model.evaluate(x_test, y_test)"
   ]
  },
  {
   "cell_type": "code",
   "execution_count": null,
   "metadata": {},
   "outputs": [],
   "source": []
  },
  {
   "cell_type": "code",
   "execution_count": 2,
   "metadata": {},
   "outputs": [
    {
     "name": "stdout",
     "output_type": "stream",
     "text": [
      "Epoch 1/20\n",
      "1000/1000 [==============================] - 0s 350us/step - loss: 2.3702 - acc: 0.1090\n",
      "Epoch 2/20\n",
      "1000/1000 [==============================] - 0s 25us/step - loss: 2.3476 - acc: 0.1000\n",
      "Epoch 3/20\n",
      "1000/1000 [==============================] - 0s 24us/step - loss: 2.3235 - acc: 0.0920\n",
      "Epoch 4/20\n",
      "1000/1000 [==============================] - 0s 22us/step - loss: 2.3328 - acc: 0.0950\n",
      "Epoch 5/20\n",
      "1000/1000 [==============================] - 0s 25us/step - loss: 2.3125 - acc: 0.1150\n",
      "Epoch 6/20\n",
      "1000/1000 [==============================] - 0s 22us/step - loss: 2.3068 - acc: 0.1030\n",
      "Epoch 7/20\n",
      "1000/1000 [==============================] - 0s 23us/step - loss: 2.3056 - acc: 0.1120\n",
      "Epoch 8/20\n",
      "1000/1000 [==============================] - 0s 22us/step - loss: 2.3042 - acc: 0.1030\n",
      "Epoch 9/20\n",
      "1000/1000 [==============================] - 0s 22us/step - loss: 2.3044 - acc: 0.1000\n",
      "Epoch 10/20\n",
      "1000/1000 [==============================] - 0s 23us/step - loss: 2.3004 - acc: 0.1320\n",
      "Epoch 11/20\n",
      "1000/1000 [==============================] - 0s 24us/step - loss: 2.3083 - acc: 0.1210\n",
      "Epoch 12/20\n",
      "1000/1000 [==============================] - 0s 23us/step - loss: 2.3110 - acc: 0.1110\n",
      "Epoch 13/20\n",
      "1000/1000 [==============================] - 0s 22us/step - loss: 2.3011 - acc: 0.1230\n",
      "Epoch 14/20\n",
      "1000/1000 [==============================] - 0s 22us/step - loss: 2.3054 - acc: 0.1030\n",
      "Epoch 15/20\n",
      "1000/1000 [==============================] - 0s 25us/step - loss: 2.2919 - acc: 0.1180\n",
      "Epoch 16/20\n",
      "1000/1000 [==============================] - 0s 21us/step - loss: 2.3032 - acc: 0.1270\n",
      "Epoch 17/20\n",
      "1000/1000 [==============================] - 0s 25us/step - loss: 2.2941 - acc: 0.1190\n",
      "Epoch 18/20\n",
      "1000/1000 [==============================] - 0s 22us/step - loss: 2.2969 - acc: 0.1330\n",
      "Epoch 19/20\n",
      "1000/1000 [==============================] - 0s 24us/step - loss: 2.2991 - acc: 0.1260\n",
      "Epoch 20/20\n",
      "1000/1000 [==============================] - 0s 23us/step - loss: 2.2921 - acc: 0.1440\n",
      "100/100 [==============================] - 0s 553us/step\n"
     ]
    }
   ],
   "source": [
    "import keras\n",
    "from keras.models import Sequential\n",
    "from keras.layers import Dense, Dropout, Activation\n",
    "from keras.optimizers import SGD\n",
    "\n",
    "# Generate dummy data\n",
    "import numpy as np\n",
    "x_train = np.random.random((1000, 20))\n",
    "y_train = keras.utils.to_categorical(np.random.randint(10, size=(1000, 1)), num_classes=10)\n",
    "x_test = np.random.random((100, 20))\n",
    "y_test = keras.utils.to_categorical(np.random.randint(10, size=(100, 1)), num_classes=10)\n",
    "\n",
    "model = Sequential()\n",
    "# Dense(64) is a fully-connected layer with 64 hidden units.\n",
    "# in the first layer, you must specify the expected input data shape:\n",
    "# here, 20-dimensional vectors.\n",
    "model.add(Dense(64, activation='relu', input_dim=20))\n",
    "model.add(Dropout(0.5))\n",
    "model.add(Dense(64, activation='relu'))\n",
    "model.add(Dropout(0.5))\n",
    "model.add(Dense(10, activation='softmax'))\n",
    "\n",
    "sgd = SGD(lr=0.01, decay=1e-6, momentum=0.9, nesterov=True)\n",
    "model.compile(loss='categorical_crossentropy',\n",
    "              optimizer=sgd,\n",
    "              metrics=['accuracy'])\n",
    "\n",
    "model.fit(x_train, y_train,\n",
    "          epochs=20,\n",
    "          batch_size=128)\n",
    "score = model.evaluate(x_test, y_test, batch_size=128)"
   ]
  },
  {
   "cell_type": "code",
   "execution_count": 3,
   "metadata": {},
   "outputs": [
    {
     "data": {
      "text/plain": [
       "[2.309931993484497, 0.15000000596046448]"
      ]
     },
     "execution_count": 3,
     "metadata": {},
     "output_type": "execute_result"
    }
   ],
   "source": [
    "score"
   ]
  },
  {
   "cell_type": "code",
   "execution_count": null,
   "metadata": {},
   "outputs": [],
   "source": []
  },
  {
   "cell_type": "code",
   "execution_count": null,
   "metadata": {},
   "outputs": [],
   "source": []
  },
  {
   "cell_type": "code",
   "execution_count": null,
   "metadata": {},
   "outputs": [],
   "source": []
  },
  {
   "cell_type": "code",
   "execution_count": null,
   "metadata": {},
   "outputs": [],
   "source": []
  },
  {
   "cell_type": "code",
   "execution_count": null,
   "metadata": {},
   "outputs": [],
   "source": []
  }
 ],
 "metadata": {
  "kernelspec": {
   "display_name": "Python [conda env:anaconda3]",
   "language": "python",
   "name": "conda-env-anaconda3-py"
  },
  "language_info": {
   "codemirror_mode": {
    "name": "ipython",
    "version": 3
   },
   "file_extension": ".py",
   "mimetype": "text/x-python",
   "name": "python",
   "nbconvert_exporter": "python",
   "pygments_lexer": "ipython3",
   "version": "3.6.4"
  }
 },
 "nbformat": 4,
 "nbformat_minor": 2
}
